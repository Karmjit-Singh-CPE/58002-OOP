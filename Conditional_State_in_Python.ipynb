{
  "nbformat": 4,
  "nbformat_minor": 0,
  "metadata": {
    "colab": {
      "provenance": [],
      "authorship_tag": "ABX9TyOpmMSvKO+TeWy4SH0mjYxM",
      "include_colab_link": true
    },
    "kernelspec": {
      "name": "python3",
      "display_name": "Python 3"
    },
    "language_info": {
      "name": "python"
    }
  },
  "cells": [
    {
      "cell_type": "markdown",
      "metadata": {
        "id": "view-in-github",
        "colab_type": "text"
      },
      "source": [
        "<a href=\"https://colab.research.google.com/github/Karmjit-Singh-CPE/58002-OOP/blob/main/Conditional_State_in_Python.ipynb\" target=\"_parent\"><img src=\"https://colab.research.google.com/assets/colab-badge.svg\" alt=\"Open In Colab\"/></a>"
      ]
    },
    {
      "cell_type": "code",
      "source": [
        "#if statement\n",
        "a = 100\n",
        "b = 50\n",
        "if a>b\n",
        "  print(\"a is greater than b\")"
      ],
      "metadata": {
        "id": "fB2WhWYKk6Vx"
      },
      "execution_count": null,
      "outputs": []
    },
    {
      "cell_type": "code",
      "source": [
        "#Elif Statement\n",
        "a = 100\n",
        "b = 500\n",
        "if a>b:\n",
        "  print(\"a is greater than b\")\n",
        "else:\n",
        "  print(\"a is less than b\")"
      ],
      "metadata": {
        "colab": {
          "base_uri": "https://localhost:8080/"
        },
        "id": "pACrzkqUlUpQ",
        "outputId": "b71fb002-1d39-4361-e696-141d79871b26"
      },
      "execution_count": null,
      "outputs": [
        {
          "output_type": "stream",
          "name": "stdout",
          "text": [
            "a is less than b\n"
          ]
        }
      ]
    },
    {
      "cell_type": "code",
      "source": [
        "#Else Statement\n",
        "a = 100\n",
        "b = 500\n",
        "if a>b:\n",
        "  print (\"a is greater than b\")\n",
        "elif a<b:\n",
        "  print(\"a is less than b\")\n",
        "else:\n",
        "  print(\"a is equal to b\")"
      ],
      "metadata": {
        "colab": {
          "base_uri": "https://localhost:8080/"
        },
        "id": "Kw0JN0Vhl2Af",
        "outputId": "cc183326-86f9-4336-a2c0-c6b2f6aef4b0"
      },
      "execution_count": 37,
      "outputs": [
        {
          "output_type": "stream",
          "name": "stdout",
          "text": [
            "a is less than b\n"
          ]
        }
      ]
    },
    {
      "cell_type": "code",
      "source": [
        "#shorthand if\n",
        "if a==b:print(\"a is equal to b\")"
      ],
      "metadata": {
        "id": "lY9t1I1Cmf7v"
      },
      "execution_count": 39,
      "outputs": []
    },
    {
      "cell_type": "code",
      "source": [
        "#shorthand if..else\n",
        "print(\"a is greater than b\")if a>b else print(\"a is less than b\")"
      ],
      "metadata": {
        "colab": {
          "base_uri": "https://localhost:8080/"
        },
        "id": "42ffrFDhmr-v",
        "outputId": "23a57d32-1bf9-444f-bace-eca8e139b4a0"
      },
      "execution_count": null,
      "outputs": [
        {
          "output_type": "stream",
          "name": "stdout",
          "text": [
            "a is less than b\n"
          ]
        }
      ]
    },
    {
      "cell_type": "code",
      "source": [
        "#and both\n",
        "a = 200\n",
        "b = 33\n",
        "c = 50\n",
        "if a>b or a>c:\n",
        "    print(\"both conditions are true\")"
      ],
      "metadata": {
        "colab": {
          "base_uri": "https://localhost:8080/"
        },
        "id": "RVElD-A3nB6_",
        "outputId": "9f156dd1-4d4f-4c45-c4d7-1f7190474b10"
      },
      "execution_count": null,
      "outputs": [
        {
          "output_type": "stream",
          "name": "stdout",
          "text": [
            "both conditions are true\n"
          ]
        }
      ]
    },
    {
      "cell_type": "code",
      "source": [
        "#or at\n",
        "a = 20\n",
        "b = 33\n",
        "c = 50\n",
        "if a>b or a<c:\n",
        "  print(\"at least one of the conditions is true\")"
      ],
      "metadata": {
        "colab": {
          "base_uri": "https://localhost:8080/"
        },
        "id": "o9YB6cOJnvVd",
        "outputId": "ca79ee60-cdb3-488b-83b7-7df5e5194250"
      },
      "execution_count": 30,
      "outputs": [
        {
          "output_type": "stream",
          "name": "stdout",
          "text": [
            "at least one of the conditions is true\n"
          ]
        }
      ]
    },
    {
      "cell_type": "code",
      "source": [
        "#and condition\n",
        "s = 75\n",
        "t = 70\n",
        "\n",
        "if s>t and t<s:\n",
        "  print(\" s > t and t < s\")"
      ],
      "metadata": {
        "colab": {
          "base_uri": "https://localhost:8080/"
        },
        "id": "KNN7fRG8oGLE",
        "outputId": "5cf31df2-83a0-4154-92fb-7f6ed3a533f5"
      },
      "execution_count": 31,
      "outputs": [
        {
          "output_type": "stream",
          "name": "stdout",
          "text": [
            " s > t and t < s\n"
          ]
        }
      ]
    },
    {
      "cell_type": "code",
      "source": [
        "#nested if\n",
        "x = 41\n",
        "\n",
        "if x>10:\n",
        "  print(\"above ten\")\n",
        "  if x>20:\n",
        "    print(\"and also above 20!\")\n",
        "  else:\n",
        "    print(\"but not above ten\")"
      ],
      "metadata": {
        "colab": {
          "base_uri": "https://localhost:8080/"
        },
        "id": "jGu6hKnVoiSU",
        "outputId": "168b2ba5-8762-48dc-f0a2-b59381d8cf31"
      },
      "execution_count": 36,
      "outputs": [
        {
          "output_type": "stream",
          "name": "stdout",
          "text": [
            "above ten\n",
            "and also above 20!\n"
          ]
        }
      ]
    },
    {
      "cell_type": "code",
      "source": [
        "x = 51\n",
        "if x>10:\n",
        "  print(\"above 10\")\n",
        "  if x>20:\n",
        "    print('above 20')\n",
        "  else:\n",
        "    print(\"below 20\")\n",
        "\n",
        "else:\n",
        "  print(\"below 10\")"
      ],
      "metadata": {
        "colab": {
          "base_uri": "https://localhost:8080/"
        },
        "id": "1x9zY5mpozkU",
        "outputId": "4088da40-4639-4f44-fad9-66b64605119d"
      },
      "execution_count": 43,
      "outputs": [
        {
          "output_type": "stream",
          "name": "stdout",
          "text": [
            "above 10\n",
            "above 20\n"
          ]
        }
      ]
    },
    {
      "cell_type": "code",
      "source": [
        "x=int(int(input()))\n",
        "if x>20:\n",
        "  print (\"above 20\")\n",
        "  if x>30:\n",
        "    print(\"above 30\")\n",
        "    if x>40:\n",
        "      print(\"above 40\")\n",
        "      if x>50:\n",
        "        print(\"above 50\")\n",
        "      else:\n",
        "        print(\"below 50\")\n",
        "    else:\n",
        "      print(\"below 40\")\n",
        "  else:\n",
        "    print(\"below 30\")\n",
        "else:\n",
        "  print(\"below 20\")"
      ],
      "metadata": {
        "colab": {
          "base_uri": "https://localhost:8080/"
        },
        "id": "OortrCcsrV7x",
        "outputId": "3c0cfa7f-578e-429f-a8d1-8f29275a79a9"
      },
      "execution_count": 65,
      "outputs": [
        {
          "output_type": "stream",
          "name": "stdout",
          "text": [
            "15\n",
            "below 20\n"
          ]
        }
      ]
    },
    {
      "cell_type": "code",
      "source": [
        "#EXAMPLE 1\n",
        "X = int(int(input()))\n",
        "x = 17\n",
        "if x<=18:\n",
        "  print(\"qualified to vote\")\n",
        "else:\n",
        "  (\"print noy qualified to vote\")"
      ],
      "metadata": {
        "colab": {
          "base_uri": "https://localhost:8080/"
        },
        "id": "v66zpH6-pwKM",
        "outputId": "10b5e79c-c3ff-411f-a2a5-36b592f29884"
      },
      "execution_count": 67,
      "outputs": [
        {
          "output_type": "stream",
          "name": "stdout",
          "text": [
            "232\n",
            "qualified to vote\n"
          ]
        }
      ]
    },
    {
      "cell_type": "code",
      "source": [
        "#EXAMPLE 2\n",
        "number = int(input(\"Enter a number: \"))\n",
        "\n",
        "if number > 0:\n",
        "    print(\"The number is positive\")\n",
        "elif number == 0:\n",
        "    print(\"The number is zero\")\n",
        "else:\n",
        "    print(\"The number is negative\")\n"
      ],
      "metadata": {
        "colab": {
          "base_uri": "https://localhost:8080/"
        },
        "id": "ExIo8FCWucgE",
        "outputId": "7fb69b88-f1b9-47a1-bb06-d2d3877a25f0"
      },
      "execution_count": 74,
      "outputs": [
        {
          "output_type": "stream",
          "name": "stdout",
          "text": [
            "Enter a number: -45\n",
            "The number is negative\n"
          ]
        }
      ]
    },
    {
      "cell_type": "code",
      "source": [
        "#EXAMPLE 3\n",
        "grade = int(input(\"Enter the grade: \"))\n",
        "\n",
        "if grade < 0:\n",
        "    print(\"Invalid grade. Only positive grades are accepted.\")\n",
        "elif grade >= 70:\n",
        "    print(\"Passed\")\n",
        "elif 65 <= grade <= 69:\n",
        "    print(\"Remedial\")\n",
        "else:\n",
        "    print(\"Failed\")"
      ],
      "metadata": {
        "colab": {
          "base_uri": "https://localhost:8080/"
        },
        "id": "xUPD7A6Mv1Ll",
        "outputId": "8b6d6053-5697-40ea-c079-3989dca98a7a"
      },
      "execution_count": 71,
      "outputs": [
        {
          "output_type": "stream",
          "name": "stdout",
          "text": [
            "Enter the grade: 34\n",
            "Failed\n"
          ]
        }
      ]
    }
  ]
}