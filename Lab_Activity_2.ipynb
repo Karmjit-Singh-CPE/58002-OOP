{
  "nbformat": 4,
  "nbformat_minor": 0,
  "metadata": {
    "colab": {
      "provenance": [],
      "authorship_tag": "ABX9TyMAzM6TyzNhHb2AAg8GCmDT",
      "include_colab_link": true
    },
    "kernelspec": {
      "name": "python3",
      "display_name": "Python 3"
    },
    "language_info": {
      "name": "python"
    }
  },
  "cells": [
    {
      "cell_type": "markdown",
      "metadata": {
        "id": "view-in-github",
        "colab_type": "text"
      },
      "source": [
        "<a href=\"https://colab.research.google.com/github/Karmjit-Singh-CPE/58002-OOP/blob/main/Lab_Activity_2.ipynb\" target=\"_parent\"><img src=\"https://colab.research.google.com/assets/colab-badge.svg\" alt=\"Open In Colab\"/></a>"
      ]
    },
    {
      "cell_type": "code",
      "execution_count": 4,
      "metadata": {
        "id": "cH7CDkwySTnR",
        "outputId": "424aa952-6901-46c1-f06b-7a59c73214e9",
        "colab": {
          "base_uri": "https://localhost:8080/"
        }
      },
      "outputs": [
        {
          "output_type": "stream",
          "name": "stdout",
          "text": [
            "Enter the radius of the circle: 43\n",
            "Perimeter of the circle is: 270.04\n",
            "Area of the circle is: 5805.86\n"
          ]
        }
      ],
      "source": [
        "class Circle:\n",
        "    def __init__(self, radius):\n",
        "        self.radius = radius\n",
        "\n",
        "    def perimeter(self):\n",
        "        return 2 * 3.14 * self.radius\n",
        "\n",
        "    def area(self):\n",
        "        return 3.14 * self.radius ** 2\n",
        "\n",
        "if __name__ == '__main__':\n",
        "    radius = float(input(\"Enter the radius of the circle: \"))\n",
        "    circle = Circle(radius)\n",
        "    print(\"Perimeter of the circle is:\", circle.perimeter())\n",
        "    print(\"Area of the circle is:\", round(circle.area(), 2))"
      ]
    }
  ]
}