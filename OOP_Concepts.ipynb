{
  "nbformat": 4,
  "nbformat_minor": 0,
  "metadata": {
    "colab": {
      "provenance": [],
      "authorship_tag": "ABX9TyPR8pSY9kuOKB2OIcTK8gbN",
      "include_colab_link": true
    },
    "kernelspec": {
      "name": "python3",
      "display_name": "Python 3"
    },
    "language_info": {
      "name": "python"
    }
  },
  "cells": [
    {
      "cell_type": "markdown",
      "metadata": {
        "id": "view-in-github",
        "colab_type": "text"
      },
      "source": [
        "<a href=\"https://colab.research.google.com/github/Karmjit-Singh-CPE/58002-OOP/blob/main/OOP_Concepts.ipynb\" target=\"_parent\"><img src=\"https://colab.research.google.com/assets/colab-badge.svg\" alt=\"Open In Colab\"/></a>"
      ]
    },
    {
      "cell_type": "code",
      "execution_count": null,
      "metadata": {
        "colab": {
          "base_uri": "https://localhost:8080/"
        },
        "id": "jmUlnCJ5uIiY",
        "outputId": "1934319d-62b1-4901-91d7-05d3a0a622ef"
      },
      "outputs": [
        {
          "output_type": "stream",
          "name": "stdout",
          "text": [
            "4\n"
          ]
        }
      ],
      "source": [
        "#Creation of CLass\n",
        "\n",
        "class myCLass:        #name of class\n",
        "  y = 4               #property name\n",
        "p1 = myCLass()\n",
        "print(p1.y)"
      ]
    },
    {
      "cell_type": "code",
      "source": [
        "class myCLass:\n",
        "  pass"
      ],
      "metadata": {
        "id": "7qHd_W8-yffv"
      },
      "execution_count": null,
      "outputs": []
    },
    {
      "cell_type": "code",
      "source": [
        "#Creation of Method\n",
        "\n",
        "class Persons:\n",
        "  def __init__(self,name,age):\n",
        "    self.name = name\n",
        "    self.age = age\n",
        "\n",
        " # def myfunction(self):\n",
        "    print(\"Hello, my name is\", self.name)\n",
        "\n",
        "teacher = Persons(\"Karmjit\",40)\n",
        "teacher.myfunction()"
      ],
      "metadata": {
        "colab": {
          "base_uri": "https://localhost:8080/"
        },
        "id": "sY8Syyeeyop-",
        "outputId": "141ce56e-c501-44e8-e8b2-78fb2b8243a1"
      },
      "execution_count": null,
      "outputs": [
        {
          "output_type": "stream",
          "name": "stdout",
          "text": [
            "Hello, my name is Karmjit\n"
          ]
        }
      ]
    },
    {
      "cell_type": "code",
      "source": [
        "#Deletion of Object Properties\n",
        "\n",
        "print(teacher.name)"
      ],
      "metadata": {
        "colab": {
          "base_uri": "https://localhost:8080/"
        },
        "id": "rzYMqz8q0Pcn",
        "outputId": "82994bf1-0ff6-4fc2-ab37-a2c20c732ea0"
      },
      "execution_count": null,
      "outputs": [
        {
          "output_type": "stream",
          "name": "stdout",
          "text": [
            "Karmjit\n"
          ]
        }
      ]
    },
    {
      "cell_type": "code",
      "source": [
        "class Shapes:\n",
        "  def __init__(self,side):\n",
        "    self.side = side\n",
        "\n",
        "  def area(self):\n",
        "    return self.side *self.side\n",
        "\n",
        "  def display(self):\n",
        "    print(\"The area of the square is\",self.area())\n",
        "\n",
        "square = Shapes(5)\n",
        "print(square.area())\n",
        "print(square.display())"
      ],
      "metadata": {
        "colab": {
          "base_uri": "https://localhost:8080/"
        },
        "id": "bhHqCsTv1AlX",
        "outputId": "ffccdd09-6432-4cf4-a9da-e92f28d4b4e2"
      },
      "execution_count": null,
      "outputs": [
        {
          "output_type": "stream",
          "name": "stdout",
          "text": [
            "25\n",
            "The area of the square is 25\n",
            "None\n"
          ]
        }
      ]
    },
    {
      "cell_type": "code",
      "source": [
        "class Shapes:\n",
        "    def __init__(self, side1, side2=None):\n",
        "        self.sides = [side1]\n",
        "        if side2:\n",
        "            self.sides.append(side2)\n",
        "\n",
        "    def area(self):\n",
        "        return eval('*'.join(map(str, self.sides)))\n",
        "\n",
        "    def display(self):\n",
        "        shape_name = \"square\" if len(self.sides) == 1 else \"rectangle\"\n",
        "        print(f\"The area of the {shape_name} is {self.area()}\")\n",
        "\n",
        "square = Shapes(5)\n",
        "rectangle = Shapes(5, 10)\n",
        "\n",
        "square.display()  # Output: The area of the square is 25\n",
        "rectangle.display()  # Output: The area of the rectangle is 50\n"
      ],
      "metadata": {
        "colab": {
          "base_uri": "https://localhost:8080/"
        },
        "id": "BkaxH7i54awN",
        "outputId": "4aa86093-45a0-42f0-f1b6-228f49376616"
      },
      "execution_count": null,
      "outputs": [
        {
          "output_type": "stream",
          "name": "stdout",
          "text": [
            "The area of the square is 5\n",
            "The area of the rectangle is 50\n"
          ]
        }
      ]
    },
    {
      "cell_type": "code",
      "source": [
        "#Inheritance\n",
        "\n",
        "class Shapes:\n",
        "    def __init__(self, side1, side2):\n",
        "        self.side1 = side1\n",
        "        self.side2 = side2\n",
        "\n",
        "    def area_square(self):\n",
        "        return self.side1 ** 2\n",
        "\n",
        "    def area_rectangle(self):\n",
        "        return self.side1 * self.side2\n",
        "\n",
        "    def display_square(self):\n",
        "        print(\"The area of the square is\", self.area_square())\n",
        "\n",
        "    def display_rectangle(self):\n",
        "        print(\"The area of the rectangle is\", self.area_rectangle())\n",
        "\n",
        "class Square(Shapes):\n",
        "    pass\n",
        "\n",
        "class Rectangle(Shapes):\n",
        "    pass\n",
        "\n",
        "square = Square(4, 4)\n",
        "rectangle = Rectangle(10, 5)\n",
        "\n",
        "square.display_square() \n",
        "rectangle.display_rectangle()  "
      ],
      "metadata": {
        "id": "CJn5VDqt64LF",
        "outputId": "aee21418-9d8b-4ec1-ea69-9896a9d12fcd",
        "colab": {
          "base_uri": "https://localhost:8080/"
        }
      },
      "execution_count": null,
      "outputs": [
        {
          "output_type": "stream",
          "name": "stdout",
          "text": [
            "The area of the square is 16\n",
            "The area of the rectangle is 50\n"
          ]
        }
      ]
    }
  ]
}