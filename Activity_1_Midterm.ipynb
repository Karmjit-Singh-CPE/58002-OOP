{
  "nbformat": 4,
  "nbformat_minor": 0,
  "metadata": {
    "colab": {
      "provenance": [],
      "authorship_tag": "ABX9TyNqh9h6opSINg9XWXpaKRjn",
      "include_colab_link": true
    },
    "kernelspec": {
      "name": "python3",
      "display_name": "Python 3"
    },
    "language_info": {
      "name": "python"
    }
  },
  "cells": [
    {
      "cell_type": "markdown",
      "metadata": {
        "id": "view-in-github",
        "colab_type": "text"
      },
      "source": [
        "<a href=\"https://colab.research.google.com/github/Karmjit-Singh-CPE/58002-OOP/blob/main/Activity_1_Midterm.ipynb\" target=\"_parent\"><img src=\"https://colab.research.google.com/assets/colab-badge.svg\" alt=\"Open In Colab\"/></a>"
      ]
    },
    {
      "cell_type": "code",
      "source": [
        "class Person:\n",
        "  def __init__(self, fullname, age, school):\n",
        "    self.fullname = fullname\n",
        "    self.age = age\n",
        "    self.school = school\n",
        "\n",
        "  def identity(self):\n",
        "    print(\"My name is\", self.fullname)\n",
        "    print(\"I am\", self.age, \"years old\")\n",
        "    print(\"I go to\", self.school)\n",
        "\n",
        "person = Person(\"Karmjit Singh\", 19, \"Adamson University\")\n",
        "person.identity()\n",
        "\n"
      ],
      "metadata": {
        "colab": {
          "base_uri": "https://localhost:8080/"
        },
        "id": "QOCawVJNDncb",
        "outputId": "41bfa03a-15a2-4c42-aa92-40e7cae9c958"
      },
      "execution_count": 3,
      "outputs": [
        {
          "output_type": "stream",
          "name": "stdout",
          "text": [
            "My name is Karmjit Singh\n",
            "I am 19 years old\n",
            "I go to Adamson University\n"
          ]
        }
      ]
    }
  ]
}