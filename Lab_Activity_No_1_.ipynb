{
  "nbformat": 4,
  "nbformat_minor": 0,
  "metadata": {
    "colab": {
      "provenance": [],
      "authorship_tag": "ABX9TyPY6Y2px4O5vUoVPvBHcWtf",
      "include_colab_link": true
    },
    "kernelspec": {
      "name": "python3",
      "display_name": "Python 3"
    },
    "language_info": {
      "name": "python"
    }
  },
  "cells": [
    {
      "cell_type": "markdown",
      "metadata": {
        "id": "view-in-github",
        "colab_type": "text"
      },
      "source": [
        "<a href=\"https://colab.research.google.com/github/Karmjit-Singh-CPE/58002-OOP/blob/main/Lab_Activity_No_1_.ipynb\" target=\"_parent\"><img src=\"https://colab.research.google.com/assets/colab-badge.svg\" alt=\"Open In Colab\"/></a>"
      ]
    },
    {
      "cell_type": "code",
      "execution_count": 1,
      "metadata": {
        "colab": {
          "base_uri": "https://localhost:8080/"
        },
        "id": "qlXTnsSx56fI",
        "outputId": "2ff7419a-4ade-42f4-fab0-ef0daaca77b3"
      },
      "outputs": [
        {
          "output_type": "stream",
          "name": "stdout",
          "text": [
            "sum = 210\n",
            "Average = 10.5\n"
          ]
        }
      ],
      "source": [
        "n = 20\n",
        "total_n = n\n",
        "sum = 0\n",
        "average = 0\n",
        "\n",
        "while n >= 0:\n",
        "  sum += n\n",
        "  n -= 1\n",
        "else:\n",
        "  print(\"sum =\", sum)\n",
        "  average = sum / total_n\n",
        "  print(\"Average =\", average) "
      ]
    }
  ]
}