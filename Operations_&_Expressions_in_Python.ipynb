{
  "nbformat": 4,
  "nbformat_minor": 0,
  "metadata": {
    "colab": {
      "provenance": [],
      "authorship_tag": "ABX9TyNwwVo5z4MOnQhljm7AKTeZ",
      "include_colab_link": true
    },
    "kernelspec": {
      "name": "python3",
      "display_name": "Python 3"
    },
    "language_info": {
      "name": "python"
    }
  },
  "cells": [
    {
      "cell_type": "markdown",
      "metadata": {
        "id": "view-in-github",
        "colab_type": "text"
      },
      "source": [
        "<a href=\"https://colab.research.google.com/github/Karmjit-Singh-CPE/58002-OOP/blob/main/Operations_%26_Expressions_in_Python.ipynb\" target=\"_parent\"><img src=\"https://colab.research.google.com/assets/colab-badge.svg\" alt=\"Open In Colab\"/></a>"
      ]
    },
    {
      "cell_type": "markdown",
      "source": [
        "**BOOLEAN OPERATIONS**\n",
        "\n",
        "represent one or two values: true or false compares varaibles  (can be two or more) <,>,=. \n",
        "bool function allows to evaluate and give you value in return: true or false\n",
        "\n",
        "1. comparison/relational"
      ],
      "metadata": {
        "id": "CLK50JLv8paa"
      }
    },
    {
      "cell_type": "code",
      "source": [
        "print(10>9)\n",
        "print(10==9)\n",
        "print(10<0)"
      ],
      "metadata": {
        "colab": {
          "base_uri": "https://localhost:8080/"
        },
        "id": "Ujpyd3Rq8sxP",
        "outputId": "f804b5d9-eb0e-4b17-adcd-e71f160432a8"
      },
      "execution_count": 1,
      "outputs": [
        {
          "output_type": "stream",
          "name": "stdout",
          "text": [
            "True\n",
            "False\n",
            "False\n"
          ]
        }
      ]
    },
    {
      "cell_type": "code",
      "source": [
        "a = 10\n",
        "b = 0\n",
        "print (a>b)\n",
        "print (a<b)\n",
        "print (a==b)\n",
        "print (b==b)"
      ],
      "metadata": {
        "colab": {
          "base_uri": "https://localhost:8080/"
        },
        "id": "Fm-yHjZ88vuo",
        "outputId": "50304ff7-b06e-4d21-eb1f-cffdfd37c97d"
      },
      "execution_count": 2,
      "outputs": [
        {
          "output_type": "stream",
          "name": "stdout",
          "text": [
            "True\n",
            "False\n",
            "False\n",
            "True\n"
          ]
        }
      ]
    },
    {
      "cell_type": "code",
      "source": [
        "print(bool(1))\n",
        "print(bool(\"Ana\"))\n",
        "print(bool(0))\n",
        "print(bool(None))\n",
        "print(bool([]))"
      ],
      "metadata": {
        "colab": {
          "base_uri": "https://localhost:8080/"
        },
        "id": "pIp-fuSB8x6-",
        "outputId": "dfe97192-4c4f-447a-9d23-cae01643cb5b"
      },
      "execution_count": 3,
      "outputs": [
        {
          "output_type": "stream",
          "name": "stdout",
          "text": [
            "True\n",
            "True\n",
            "False\n",
            "False\n",
            "False\n"
          ]
        }
      ]
    },
    {
      "cell_type": "markdown",
      "source": [
        "**FUNCTION CAN RETURN A BOOLEAN**\n",
        "\n",
        "defmy Function()\n",
        "return true\n",
        "\n",
        "print(myFunction())"
      ],
      "metadata": {
        "id": "ytayLdQb8zpw"
      }
    },
    {
      "cell_type": "code",
      "source": [
        "def myFucntion():\n",
        "  return False\n",
        "\n",
        "print(myFucntion())"
      ],
      "metadata": {
        "colab": {
          "base_uri": "https://localhost:8080/"
        },
        "id": "Rjczjrn8808n",
        "outputId": "32648cd3-0e19-417f-a43e-293d87fb79f9"
      },
      "execution_count": 4,
      "outputs": [
        {
          "output_type": "stream",
          "name": "stdout",
          "text": [
            "False\n"
          ]
        }
      ]
    },
    {
      "cell_type": "markdown",
      "source": [
        "#Allignment"
      ],
      "metadata": {
        "id": "kJGwHrpT83cf"
      }
    },
    {
      "cell_type": "code",
      "source": [
        "def myFucntion():\n",
        "  return False\n",
        "if myFucntion():\n",
        "  print(\"Yes\")\n",
        "else:\n",
        "    print(\"No!\")"
      ],
      "metadata": {
        "colab": {
          "base_uri": "https://localhost:8080/"
        },
        "id": "Yv78LNik878n",
        "outputId": "42743726-5393-4fc3-ec54-6be819aea8d4"
      },
      "execution_count": 5,
      "outputs": [
        {
          "output_type": "stream",
          "name": "stdout",
          "text": [
            "No!\n"
          ]
        }
      ]
    },
    {
      "cell_type": "code",
      "source": [
        "print (6>7)\n",
        "\n",
        "a=6\n",
        "b=7\n",
        "print(a==b)\n",
        "print(a!=a)"
      ],
      "metadata": {
        "colab": {
          "base_uri": "https://localhost:8080/"
        },
        "id": "WHW8-8ya89bA",
        "outputId": "ba11eea7-7aad-4752-fab3-3b44bfbc316d"
      },
      "execution_count": 6,
      "outputs": [
        {
          "output_type": "stream",
          "name": "stdout",
          "text": [
            "False\n",
            "False\n",
            "False\n"
          ]
        }
      ]
    },
    {
      "cell_type": "markdown",
      "source": [
        "**PYTHON OPERATORS**\n",
        "\n",
        "operators are used to perform on variables and values\n",
        "\n",
        "%modulo division -- remainder // floor division\n",
        "**power ^(exponent)\n"
      ],
      "metadata": {
        "id": "d3CN1mO69CL3"
      }
    },
    {
      "cell_type": "code",
      "source": [
        "print(10%5)\n",
        "print(10//3)\n",
        "print(10**2)"
      ],
      "metadata": {
        "colab": {
          "base_uri": "https://localhost:8080/"
        },
        "id": "PV3Wfcd49CmH",
        "outputId": "eb244779-7b65-4be6-c1a2-2485d2897593"
      },
      "execution_count": 7,
      "outputs": [
        {
          "output_type": "stream",
          "name": "stdout",
          "text": [
            "0\n",
            "3\n",
            "100\n"
          ]
        }
      ]
    },
    {
      "cell_type": "code",
      "source": [
        "print(10+5)\n",
        "print(10-5)\n",
        "print(10*5)\n",
        "print(10/5)\n",
        "print(10//5)\n",
        "print(10%3)\n",
        "print(10**2)"
      ],
      "metadata": {
        "colab": {
          "base_uri": "https://localhost:8080/"
        },
        "id": "zcjsKpJi9Epw",
        "outputId": "07562b82-00f8-49fc-9163-1d8369a53562"
      },
      "execution_count": 8,
      "outputs": [
        {
          "output_type": "stream",
          "name": "stdout",
          "text": [
            "15\n",
            "5\n",
            "50\n",
            "2.0\n",
            "2\n",
            "1\n",
            "100\n"
          ]
        }
      ]
    },
    {
      "cell_type": "markdown",
      "source": [
        "**PYTHON BITWISE OPERATORS**\n",
        "\n",
        "works on bits and performs bits-by-bits operation.\n",
        "\n",
        "Assume if a=6 and b=13; now in binary format they will be as follows.\n",
        "\n",
        "<< = shifts to the right.\n",
        "\n",
        "(>>)=not applicable in regis"
      ],
      "metadata": {
        "id": "BaC-dFIw9Hs3"
      }
    },
    {
      "cell_type": "code",
      "source": [
        "a=60\n",
        "b=13\n",
        "\n",
        "a<<1\n",
        "\n",
        "a>>1"
      ],
      "metadata": {
        "colab": {
          "base_uri": "https://localhost:8080/"
        },
        "id": "7MRQJPNk9RQW",
        "outputId": "aacbdc76-c8a1-431c-8584-eb01d0c81ab3"
      },
      "execution_count": 10,
      "outputs": [
        {
          "output_type": "execute_result",
          "data": {
            "text/plain": [
              "30"
            ]
          },
          "metadata": {},
          "execution_count": 10
        }
      ]
    },
    {
      "cell_type": "code",
      "source": [
        "a>>1"
      ],
      "metadata": {
        "colab": {
          "base_uri": "https://localhost:8080/"
        },
        "id": "5WyL1ZoO95R4",
        "outputId": "87a1e323-a04d-468c-8721-e168b596fd1e"
      },
      "execution_count": 11,
      "outputs": [
        {
          "output_type": "execute_result",
          "data": {
            "text/plain": [
              "30"
            ]
          },
          "metadata": {},
          "execution_count": 11
        }
      ]
    },
    {
      "cell_type": "markdown",
      "source": [
        "**PYTHON ASSIGNMENT OPERATORS**\n",
        "\n",
        "x +=3 same as x=x+3"
      ],
      "metadata": {
        "id": "MBtAmk_S9_0P"
      }
    },
    {
      "cell_type": "code",
      "source": [
        "x = 1\n",
        "x+=3  # same as x = x+3\n",
        "print(x)\n",
        "x = 1\n",
        "x-=3\n",
        "print(x)"
      ],
      "metadata": {
        "colab": {
          "base_uri": "https://localhost:8080/"
        },
        "id": "-vEdxmHX-L8Y",
        "outputId": "92705978-665d-48d1-8aca-44d7bf1e3812"
      },
      "execution_count": 23,
      "outputs": [
        {
          "output_type": "stream",
          "name": "stdout",
          "text": [
            "4\n",
            "-2\n"
          ]
        }
      ]
    },
    {
      "cell_type": "markdown",
      "source": [
        "**Logical Operations**"
      ],
      "metadata": {
        "id": "9HS8Yu-7_2PQ"
      }
    },
    {
      "cell_type": "code",
      "source": [
        "x = True\n",
        "y = False"
      ],
      "metadata": {
        "id": "mIVVtkEX_5QH"
      },
      "execution_count": 17,
      "outputs": []
    },
    {
      "cell_type": "code",
      "source": [
        "print(x and y)\n",
        "print(x or y)\n",
        "print(not(x or y ))"
      ],
      "metadata": {
        "colab": {
          "base_uri": "https://localhost:8080/"
        },
        "id": "KMj_Iny7At5h",
        "outputId": "03c240de-41d8-4c64-ea14-263fa41a2fd0"
      },
      "execution_count": 18,
      "outputs": [
        {
          "output_type": "stream",
          "name": "stdout",
          "text": [
            "False\n",
            "True\n",
            "False\n"
          ]
        }
      ]
    },
    {
      "cell_type": "markdown",
      "source": [
        "**Identity Operators**"
      ],
      "metadata": {
        "id": "bNvol8aRBQxJ"
      }
    },
    {
      "cell_type": "code",
      "source": [
        "print(x is y)\n",
        "print(x is not y)\n"
      ],
      "metadata": {
        "colab": {
          "base_uri": "https://localhost:8080/"
        },
        "id": "zsukM9h0BYqh",
        "outputId": "077dbbec-0d74-4497-9a48-671632b21bdc"
      },
      "execution_count": 19,
      "outputs": [
        {
          "output_type": "stream",
          "name": "stdout",
          "text": [
            "False\n",
            "True\n"
          ]
        }
      ]
    },
    {
      "cell_type": "code",
      "source": [
        "s = int(input())\n",
        "\n",
        "1"
      ],
      "metadata": {
        "colab": {
          "base_uri": "https://localhost:8080/"
        },
        "id": "1D1DMJ3_Clvo",
        "outputId": "cf741384-2bff-468a-8dba-eeda2230bc92"
      },
      "execution_count": 24,
      "outputs": [
        {
          "name": "stdout",
          "output_type": "stream",
          "text": [
            "1\n"
          ]
        },
        {
          "output_type": "execute_result",
          "data": {
            "text/plain": [
              "1"
            ]
          },
          "metadata": {},
          "execution_count": 24
        }
      ]
    },
    {
      "cell_type": "markdown",
      "source": [
        "***Application 1 create an arithmetic calculator (MDAS)***"
      ],
      "metadata": {
        "id": "DaVSYZj5B-C4"
      }
    },
    {
      "cell_type": "code",
      "source": [
        "def calculator():\n",
        "    while True:\n",
        "        print(\"\\nEnter an operation (+, -, *, /, or q to quit): \")\n",
        "        user_input = input()\n",
        "\n",
        "        if user_input == \"q\":\n",
        "            break\n",
        "        elif user_input in [\"+\", \"-\", \"*\", \"/\"]:\n",
        "            num1 = float(input(\"Enter a number: \"))\n",
        "            num2 = float(input(\"Enter another number: \"))\n",
        "            result = eval(f\"{num1} {user_input} {num2}\")\n",
        "            print(\"Result:\", result)\n",
        "        else:\n",
        "            print(\"Unknown input\")\n",
        "\n",
        "calculator()"
      ],
      "metadata": {
        "id": "489VhfObLfIC"
      },
      "execution_count": null,
      "outputs": []
    }
  ]
}