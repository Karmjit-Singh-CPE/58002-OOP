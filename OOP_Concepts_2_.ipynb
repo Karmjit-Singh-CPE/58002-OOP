{
  "nbformat": 4,
  "nbformat_minor": 0,
  "metadata": {
    "colab": {
      "provenance": [],
      "authorship_tag": "ABX9TyMOjndDvdd23256VBWoVr47",
      "include_colab_link": true
    },
    "kernelspec": {
      "name": "python3",
      "display_name": "Python 3"
    },
    "language_info": {
      "name": "python"
    }
  },
  "cells": [
    {
      "cell_type": "markdown",
      "metadata": {
        "id": "view-in-github",
        "colab_type": "text"
      },
      "source": [
        "<a href=\"https://colab.research.google.com/github/Karmjit-Singh-CPE/58002-OOP/blob/main/OOP_Concepts_2_.ipynb\" target=\"_parent\"><img src=\"https://colab.research.google.com/assets/colab-badge.svg\" alt=\"Open In Colab\"/></a>"
      ]
    },
    {
      "cell_type": "code",
      "execution_count": 19,
      "metadata": {
        "colab": {
          "base_uri": "https://localhost:8080/"
        },
        "id": "QRMZCsXa6pER",
        "outputId": "46d19781-72cc-475b-c88e-b3696671773a"
      },
      "outputs": [
        {
          "output_type": "stream",
          "name": "stdout",
          "text": [
            "7\n"
          ]
        }
      ],
      "source": [
        "class Foo():\n",
        "  def __init__(self, a, b):\n",
        "    self.a = a\n",
        "    self.b = b\n",
        "  def add(self):\n",
        "    self.a += self.b\n",
        "    return self.a\n",
        "foo_object = Foo(3, 4)\n",
        "print(foo_object.add()) "
      ]
    },
    {
      "cell_type": "code",
      "source": [
        "#Class with multiple objects\n",
        "\n",
        "class birds:\n",
        "  def __init__(self,name_birds):\n",
        "    self.name_birds = name_birds\n",
        "  def flying_birds(self):\n",
        "    print(f\"The {self.name_birds} is the flying bird above the sky\")\n",
        "  def non_flying_birds(self):\n",
        "    print(f\"The {self.name_birds} is the non flying bird\")\n",
        "  \n",
        "eagle = birds(\"Eagle\")\n",
        "chicken = birds(\"Chicken\")\n",
        "eagle.flying_birds()\n",
        "chicken.non_flying_birds()"
      ],
      "metadata": {
        "colab": {
          "base_uri": "https://localhost:8080/"
        },
        "id": "nz2g8SYr9SHF",
        "outputId": "ef21a747-5718-4daa-a396-d5f5c3329f98"
      },
      "execution_count": 21,
      "outputs": [
        {
          "output_type": "stream",
          "name": "stdout",
          "text": [
            "The Eagle is the flying bird above the sky\n",
            "The Chicken is the non flying bird\n"
          ]
        }
      ]
    },
    {
      "cell_type": "code",
      "source": [
        "#Encapsulation\n",
        "\n",
        "class foo:\n",
        "  def __init__(self,a,b):\n",
        "    self.__a = a\n",
        "    self.__b = b\n",
        "  def add(self):\n",
        "    return self.__a + self.__b\n",
        "\n",
        "foo_object = foo(3,4)\n",
        "foo_object.add()\n",
        "foo_object.a = 7\n",
        "foo_object.b = 6\n",
        "foo_object.add()"
      ],
      "metadata": {
        "colab": {
          "base_uri": "https://localhost:8080/"
        },
        "id": "KEVF5wM7_QE1",
        "outputId": "2db6b93e-b644-456a-de01-8e2053ea1cf6"
      },
      "execution_count": 20,
      "outputs": [
        {
          "output_type": "execute_result",
          "data": {
            "text/plain": [
              "7"
            ]
          },
          "metadata": {},
          "execution_count": 20
        }
      ]
    },
    {
      "cell_type": "code",
      "source": [
        "#Inheritance\n",
        "\n",
        "class Person:\n",
        "  def __init__(self, name, birthdate):\n",
        "    self.name = name\n",
        "    self.birthdate = birthdate\n",
        "  def display(self):\n",
        "    print(\"My name is\", self.name)\n",
        "    print(\"My birthday is\", self.birthdate)\n",
        "class Student(Person):\n",
        "  pass\n",
        "\n",
        "person = Person(\"Maria\", \"February 1990\")\n",
        "person.display()\n",
        "\n",
        "student = Student(\"Ana\", \"March 14, 1991\")\n",
        "student.display()"
      ],
      "metadata": {
        "colab": {
          "base_uri": "https://localhost:8080/"
        },
        "id": "zlV-HmDxAzA3",
        "outputId": "1ab7d863-8c0e-4666-a72a-b41384edaa2c"
      },
      "execution_count": 16,
      "outputs": [
        {
          "output_type": "stream",
          "name": "stdout",
          "text": [
            "My name is Maria\n",
            "My birthday is February 1990\n",
            "My name is Ana\n",
            "My birthday is March 14, 1991\n"
          ]
        }
      ]
    },
    {
      "cell_type": "code",
      "source": [
        "#Activity\n",
        "\n",
        "class Shapes:\n",
        "    def __init__(self, side):\n",
        "        self.__side = side \n",
        "    def get_side(self):\n",
        "        return self.__side\n",
        "    def print_sides(self):\n",
        "        pass  \n",
        "\n",
        "class Triangle(Shapes):\n",
        "    def __init__(self):\n",
        "        super().__init__(3) \n",
        "    def print_sides(self):\n",
        "        print(\"Triangle has 3 sides.\")\n",
        "class Square(Shapes):\n",
        "    def __init__(self):\n",
        "        super().__init__(4)\n",
        "    def print_sides(self):\n",
        "        print(\"Square has 4 sides.\")\n",
        "class Pentagon(Shapes):\n",
        "    def __init__(self):\n",
        "        super().__init__(5)\n",
        "    def print_sides(self):\n",
        "        print(\"Pentagon has 5 sides.\")\n",
        "\n",
        "t = Triangle()\n",
        "print(\"Triangle side:\", t.get_side())\n",
        "t.print_sides()\n",
        "\n",
        "s = Square()\n",
        "print(\"Square side:\", s.get_side())\n",
        "s.print_sides()\n",
        "\n",
        "p = Pentagon()\n",
        "print(\"Pentagon side:\", p.get_side())\n",
        "p.print_sides()"
      ],
      "metadata": {
        "colab": {
          "base_uri": "https://localhost:8080/"
        },
        "id": "EFtu0zy1DNPz",
        "outputId": "45f89f01-7429-4c7c-cd89-caba930c0412"
      },
      "execution_count": 28,
      "outputs": [
        {
          "output_type": "stream",
          "name": "stdout",
          "text": [
            "Triangle side: 3\n",
            "Triangle has 3 sides.\n",
            "Square side: 4\n",
            "Square has 4 sides.\n",
            "Pentagon side: 5\n",
            "Pentagon has 5 sides.\n"
          ]
        }
      ]
    }
  ]
}