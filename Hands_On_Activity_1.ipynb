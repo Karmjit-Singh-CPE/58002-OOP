{
  "nbformat": 4,
  "nbformat_minor": 0,
  "metadata": {
    "colab": {
      "provenance": [],
      "authorship_tag": "ABX9TyM+KX3/DMIuaghmyDn6asBh",
      "include_colab_link": true
    },
    "kernelspec": {
      "name": "python3",
      "display_name": "Python 3"
    },
    "language_info": {
      "name": "python"
    }
  },
  "cells": [
    {
      "cell_type": "markdown",
      "metadata": {
        "id": "view-in-github",
        "colab_type": "text"
      },
      "source": [
        "<a href=\"https://colab.research.google.com/github/Karmjit-Singh-CPE/58002-OOP/blob/main/Hands_On_Activity_1.ipynb\" target=\"_parent\"><img src=\"https://colab.research.google.com/assets/colab-badge.svg\" alt=\"Open In Colab\"/></a>"
      ]
    },
    {
      "cell_type": "markdown",
      "source": [
        "1. Create a Python program that displays the name of three students (Student 1, Student 2, and Student 3) and the term grades\n",
        "\n",
        "2. Create a class name Person and attributes-std1, std2, std3, premid, fin\n",
        "\n",
        "3. Compute the average of each term grade using Grade() method\n",
        "\n",
        "4. Information about student's grades must be hidden from others"
      ],
      "metadata": {
        "id": "aySHXUNVAbbp"
      }
    },
    {
      "cell_type": "code",
      "source": [
        "class Person:\n",
        "    def __init__(self, name, pre, mid, fin):\n",
        "        self.name = name\n",
        "        self.pre = pre\n",
        "        self.mid = mid\n",
        "        self.fin = fin\n",
        "    \n",
        "    def grade(self):\n",
        "        avg = round((self.pre + self.mid + self.fin) / 3, 2)\n",
        "        print(f\"{self.name}'s Average Grade is: {avg}\\n\")\n",
        "        \n",
        "    def display(self):\n",
        "        print(self.name)\n",
        "        print(f\"Your Prelim grade is: {self.pre}\")\n",
        "        print(f\"Your Midterm grade is: {self.mid}\")\n",
        "        print(f\"Your Finals grade is: {self.fin}\\n\")\n",
        "\n",
        "students = [\n",
        "    Person(\"Student 1\", 87, 89, 92),\n",
        "    Person(\"Student 2\", 89, 88, 91),\n",
        "    Person(\"Student 3\", 88, 81, 96)\n",
        "]\n",
        "\n",
        "for student in students:\n",
        "    student.display()\n",
        "    student.grade()\n"
      ],
      "metadata": {
        "colab": {
          "base_uri": "https://localhost:8080/"
        },
        "id": "lZa_aruiNLlW",
        "outputId": "36ed7535-f721-4427-a126-e9f9d93aaae3"
      },
      "execution_count": 17,
      "outputs": [
        {
          "output_type": "stream",
          "name": "stdout",
          "text": [
            "Student 1\n",
            "Your Prelim grade is: 87\n",
            "Your Midterm grade is: 89\n",
            "Your Finals grade is: 92\n",
            "\n",
            "Student 1's Average Grade is: 89.33\n",
            "\n",
            "Student 2\n",
            "Your Prelim grade is: 89\n",
            "Your Midterm grade is: 88\n",
            "Your Finals grade is: 91\n",
            "\n",
            "Student 2's Average Grade is: 89.33\n",
            "\n",
            "Student 3\n",
            "Your Prelim grade is: 88\n",
            "Your Midterm grade is: 81\n",
            "Your Finals grade is: 96\n",
            "\n",
            "Student 3's Average Grade is: 88.33\n",
            "\n"
          ]
        }
      ]
    }
  ]
}